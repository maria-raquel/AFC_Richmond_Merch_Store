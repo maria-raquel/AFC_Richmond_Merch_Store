{
 "cells": [
  {
   "cell_type": "code",
   "execution_count": 1,
   "metadata": {},
   "outputs": [],
   "source": [
    "import produto as p \n",
    "import connect_to_DB"
   ]
  },
  {
   "cell_type": "code",
   "execution_count": 2,
   "metadata": {},
   "outputs": [
    {
     "name": "stdout",
     "output_type": "stream",
     "text": [
      "Foi\n"
     ]
    }
   ],
   "source": [
    "connection = connect_to_DB.connect()\n",
    "if connection:\n",
    "    print(\"Foi\")\n",
    "Produto = p.Table_Produto(connection)"
   ]
  },
  {
   "cell_type": "code",
   "execution_count": 3,
   "metadata": {},
   "outputs": [
    {
     "data": {
      "text/plain": [
       "1"
      ]
     },
     "execution_count": 3,
     "metadata": {},
     "output_type": "execute_result"
    }
   ],
   "source": [
    "teste = Produto.create(\"Camiseta\", 50, 10, \"Vestuario\", \"Brasil\", 1)\n",
    "teste"
   ]
  },
  {
   "cell_type": "code",
   "execution_count": 4,
   "metadata": {},
   "outputs": [
    {
     "data": {
      "text/plain": [
       "['id',\n",
       " 'nome',\n",
       " 'preco',\n",
       " 'estoque',\n",
       " 'categoria',\n",
       " 'local_de_fabricacao',\n",
       " 'disponibilidade']"
      ]
     },
     "execution_count": 4,
     "metadata": {},
     "output_type": "execute_result"
    }
   ],
   "source": [
    "lista = (Produto.colunas)\n",
    "lista"
   ]
  },
  {
   "cell_type": "code",
   "execution_count": 5,
   "metadata": {},
   "outputs": [
    {
     "data": {
      "text/plain": [
       "(1, 'Camiseta', 50.0, 10, {'Vestuario'}, 'Brasil', 1)"
      ]
     },
     "execution_count": 5,
     "metadata": {},
     "output_type": "execute_result"
    }
   ],
   "source": [
    "Produto.read_by_id(1)"
   ]
  },
  {
   "cell_type": "code",
   "execution_count": 6,
   "metadata": {},
   "outputs": [
    {
     "data": {
      "text/plain": [
       "(2, 'Camiseta', 50.0, 10, {'Vestuario'}, 'Brasil', 1)"
      ]
     },
     "execution_count": 6,
     "metadata": {},
     "output_type": "execute_result"
    }
   ],
   "source": [
    "Produto.read_by_id(2)"
   ]
  },
  {
   "cell_type": "code",
   "execution_count": 7,
   "metadata": {},
   "outputs": [
    {
     "data": {
      "text/plain": [
       "[(1, 'Camiseta', 50.0, 10, {'Vestuario'}, 'Brasil', 1),\n",
       " (2, 'Camiseta', 50.0, 10, {'Vestuario'}, 'Brasil', 1),\n",
       " (3, 'Camiseta', 50.0, 10, {'Vestuario'}, 'Brasil', 1),\n",
       " (4, 'Camiseta', 50.0, 10, {'Vestuario'}, 'Brasil', 1),\n",
       " (5, 'Camiseta', 50.0, 10, {'Vestuario'}, 'Brasil', 1),\n",
       " (6, 'Camiseta', 50.0, 10, {'Vestuario'}, 'Brasil', 1),\n",
       " (7, 'Camiseta', 50.0, 20, {'Vestuario'}, 'Brasil', 1),\n",
       " (8, 'Camiseta', 50.0, 10, {'Vestuario'}, 'Brasil', 1),\n",
       " (9, 'Camiseta', 50.0, 10, {'Vestuario'}, 'Brasil', 1),\n",
       " (10, 'Camiseta', 50.0, 10, {'Vestuario'}, 'Brasil', 1),\n",
       " (11, 'Camiseta', 50.0, 10, {'Vestuario'}, 'Brasil', 1),\n",
       " (12, 'Camiseta', 50.0, 10, {'Vestuario'}, 'Brasil', 1),\n",
       " (13, 'Camiseta', 50.0, 10, {'Vestuario'}, 'Brasil', 1),\n",
       " (14, 'Camiseta', 50.0, 10, {'Vestuario'}, 'Brasil', 1),\n",
       " (15, 'Camiseta', 50.0, 10, {'Vestuario'}, 'Brasil', 1)]"
      ]
     },
     "execution_count": 7,
     "metadata": {},
     "output_type": "execute_result"
    }
   ],
   "source": [
    "Produto.read_by_name('camiseta')"
   ]
  },
  {
   "cell_type": "code",
   "execution_count": 9,
   "metadata": {},
   "outputs": [
    {
     "name": "stdout",
     "output_type": "stream",
     "text": [
      "\n",
      "            UPDATE Produto\n",
      "            SET estoque = 30 WHERE id = 1;\n",
      "            \n"
     ]
    },
    {
     "data": {
      "text/plain": [
       "1"
      ]
     },
     "execution_count": 9,
     "metadata": {},
     "output_type": "execute_result"
    }
   ],
   "source": [
    "Produto.update(1, 'estoque', 30)\n",
    "\n"
   ]
  }
 ],
 "metadata": {
  "kernelspec": {
   "display_name": "Python 3",
   "language": "python",
   "name": "python3"
  },
  "language_info": {
   "codemirror_mode": {
    "name": "ipython",
    "version": 3
   },
   "file_extension": ".py",
   "mimetype": "text/x-python",
   "name": "python",
   "nbconvert_exporter": "python",
   "pygments_lexer": "ipython3",
   "version": "3.10.11"
  },
  "orig_nbformat": 4
 },
 "nbformat": 4,
 "nbformat_minor": 2
}
