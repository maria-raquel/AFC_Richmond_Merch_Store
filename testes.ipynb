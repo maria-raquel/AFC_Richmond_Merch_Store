{
 "cells": [
  {
   "cell_type": "code",
   "execution_count": 1,
   "metadata": {},
   "outputs": [],
   "source": [
    "import connect_to_DB\n",
    "import t_cliente as cl\n",
    "import t_compra_produto as cp\n",
    "import t_compra as cm\n",
    "import t_produto as p\n",
    "import t_vendedor as v\n",
    "import t_pagamento as pg\n",
    "import f_input as fi\n",
    "import f_print as fp\n",
    "import f_manipulacao as fm\n",
    "import f_relatorio as fr\n",
    "\n",
    "connection = connect_to_DB.connect()\n",
    "\n",
    "Cliente = cl.Table_Cliente(connection)\n",
    "Vendedor = v.Table_Vendedor(connection)\n",
    "Produto = p.Table_Produto(connection)\n",
    "Compra = cm.Table_Compra(connection)\n",
    "Compra_Produto = cp.Table_Compra_Produto(connection)\n",
    "Pagamento = pg.Table_Pagamento(connection)"
   ]
  },
  {
   "cell_type": "code",
   "execution_count": 3,
   "metadata": {},
   "outputs": [
    {
     "name": "stdout",
     "output_type": "stream",
     "text": [
      "~~~~~~~~~~~ Relátorio Mensal ~~~~~~~~~~~\n",
      "Junho de 2023\n",
      "----------------------------------------\n",
      "Vendedor 1:\n",
      "Nome: Raquel\n",
      "CPF: 010\n",
      "Situação: Ativo\n",
      "----------------------------------------\n",
      "Total de vendas realizadas: 19\n",
      "Total arrecadado: R$ 1017.98\n",
      "Média de arrecadação por venda: R$ 53.58\n",
      "Dia de maior arrecadação: 03/06/2023, R$ 439.56\n",
      "----------------------------------------\n",
      "Top 3 produtos mais vendidos:\n",
      "ID | Nome | Quantidade\n",
      "5 | vuvuzela | 49\n",
      "4 | vuvuzela | 30\n",
      "3 | vuvuzela | 27\n",
      "----------------------------------------\n",
      "Top 3 clientes deste vendedor:\n",
      "ID | Nome | Compras feitas\n",
      "8 | Sem cadastro | 15\n",
      "18 | Taylor Swift | 1\n",
      "19 | Martha Stewart | 1\n",
      "~~~~~~~~~~~~~~~~~~~~~~~~~~~~~~~~~~~~~~~~\n"
     ]
    }
   ],
   "source": [
    "fr.relatorio_por_vendedor_por_mes(1,'06', '2023')"
   ]
  },
  {
   "cell_type": "code",
   "execution_count": null,
   "metadata": {},
   "outputs": [],
   "source": [
    "a = 0\n",
    "b = None\n",
    "\n",
    "if b == 0:\n",
    "    print('a é None')"
   ]
  }
 ],
 "metadata": {
  "kernelspec": {
   "display_name": "Python 3",
   "language": "python",
   "name": "python3"
  },
  "language_info": {
   "codemirror_mode": {
    "name": "ipython",
    "version": 3
   },
   "file_extension": ".py",
   "mimetype": "text/x-python",
   "name": "python",
   "nbconvert_exporter": "python",
   "pygments_lexer": "ipython3",
   "version": "3.10.11"
  },
  "orig_nbformat": 4
 },
 "nbformat": 4,
 "nbformat_minor": 2
}
