{
 "cells": [
  {
   "cell_type": "code",
   "execution_count": 1,
   "metadata": {},
   "outputs": [],
   "source": [
    "import connect_to_DB\n",
    "import t_cliente as cl\n",
    "import t_compra_produto as cp\n",
    "import t_compra as cm\n",
    "import t_produto as p\n",
    "import t_vendedor as v\n",
    "import t_pagamento as pg\n",
    "import f_input as fi\n",
    "import f_print as fp"
   ]
  },
  {
   "cell_type": "code",
   "execution_count": 2,
   "metadata": {},
   "outputs": [],
   "source": [
    "connection = connect_to_DB.connect()"
   ]
  },
  {
   "cell_type": "code",
   "execution_count": 3,
   "metadata": {},
   "outputs": [],
   "source": [
    "Cliente = cl.Table_Cliente(connection)\n",
    "Vendedor = v.Table_Vendedor(connection)\n",
    "Produto = p.Table_Produto(connection)\n",
    "Compra = cm.Table_Compra(connection)\n",
    "Compra_Produto = cp.Table_Compra_Produto(connection)\n",
    "Pagamento = pg.Table_Pagamento(connection)"
   ]
  },
  {
   "cell_type": "code",
   "execution_count": 20,
   "metadata": {},
   "outputs": [
    {
     "data": {
      "text/plain": [
       "[(1, '123', 'João', 1, 0, 'João Pessoa'),\n",
       " (7, '990', 'Maria', 0, 0, 'Boa Vista'),\n",
       " (8, '0', 'Sem cadastro', 0, 0, 'Sem cadastro'),\n",
       " (10, '012', 'Marcelo', 1, 1, 'Sousa'),\n",
       " (11, '969', 'Jorge', 1, 0, 'Mari'),\n",
       " (12, '777', 'Samila', 0, 0, 'Coremas'),\n",
       " (13, '345', 'Gio', 0, 0, 'Campina Grande'),\n",
       " (14, '741', 'Carlos', 1, 0, 'Manaus')]"
      ]
     },
     "execution_count": 20,
     "metadata": {},
     "output_type": "execute_result"
    }
   ],
   "source": [
    "Cliente.read_all()\n"
   ]
  },
  {
   "cell_type": "code",
   "execution_count": null,
   "metadata": {},
   "outputs": [],
   "source": [
    "Vendedor.read_all()"
   ]
  },
  {
   "cell_type": "code",
   "execution_count": null,
   "metadata": {},
   "outputs": [],
   "source": [
    "Produto.read_all()"
   ]
  },
  {
   "cell_type": "code",
   "execution_count": 24,
   "metadata": {},
   "outputs": [
    {
     "data": {
      "text/plain": [
       "[(1, 1, 1, datetime.date(2023, 6, 1), {'Aguardando confirmação'}),\n",
       " (2, 1, 1, datetime.date(2023, 5, 1), {'Aguardando confirmação'}),\n",
       " (3, 1, 1, datetime.date(2023, 5, 1), {'Aguardando confirmação'}),\n",
       " (4, 1, 1, datetime.date(2023, 5, 1), {'Aguardando confirmação'}),\n",
       " (5, 1, 1, datetime.date(2023, 5, 1), {'Aguardando confirmação'}),\n",
       " (6, 8, 1, datetime.date(2023, 4, 4), {'Aguardando confirmação'}),\n",
       " (7, 12, 1, datetime.date(2023, 5, 6), {'Aguardando confirmação'})]"
      ]
     },
     "execution_count": 24,
     "metadata": {},
     "output_type": "execute_result"
    }
   ],
   "source": [
    "Compra.read_all()"
   ]
  },
  {
   "cell_type": "code",
   "execution_count": 34,
   "metadata": {},
   "outputs": [
    {
     "data": {
      "text/plain": [
       "[]"
      ]
     },
     "execution_count": 34,
     "metadata": {},
     "output_type": "execute_result"
    }
   ],
   "source": [
    "Compra_Produto.read_all_from_compra(8)"
   ]
  },
  {
   "cell_type": "code",
   "execution_count": 5,
   "metadata": {},
   "outputs": [
    {
     "data": {
      "text/plain": [
       "[]"
      ]
     },
     "execution_count": 5,
     "metadata": {},
     "output_type": "execute_result"
    }
   ],
   "source": [
    "Pagamento.read_all()"
   ]
  },
  {
   "cell_type": "code",
   "execution_count": 4,
   "metadata": {},
   "outputs": [
    {
     "name": "stdout",
     "output_type": "stream",
     "text": [
      "----------------------------------------\n",
      "Opa, algo deu errado!\n",
      "----------------------------------------\n",
      "----------------------------------------\n",
      "Opa, algo deu errado!\n",
      "----------------------------------------\n",
      "Opções de pagamento: \n",
      "1: Dinheiro\n",
      "2: Cartão de crédito\n",
      "3: Cartão de débito\n",
      "4: Boleto\n",
      "5: Pix\n",
      "----------------------------------------\n",
      "Opa, algo deu errado!\n",
      "----------------------------------------\n"
     ]
    }
   ],
   "source": [
    "id_compra = 2\n",
    "id_cliente = 1\n",
    "\n",
    "produtos = fi.escolher_produtos(id_compra)\n",
    "\n",
    "for produto in produtos:\n",
    "    if not Compra_Produto.create(*produto):\n",
    "        fp.mensagem_erro()\n",
    "\n",
    "total = Compra_Produto.return_total_compra(id_compra)\n",
    "try:\n",
    "    desconto = Cliente.return_desconto(id_cliente) * total\n",
    "except:\n",
    "    fp.mensagem_erro()\n",
    "    desconto = 0\n",
    "\n",
    "# TA DANDO PROBLEMA AQUI\n",
    "# tem que fazer o alter table pra incluir a opção pagamento 'a definir'\n",
    "dados_pagamento = (id_compra, total, desconto, 'A definir', 'Pendente')\n",
    "if not Pagamento.create(*dados_pagamento):\n",
    "    fp.mensagem_erro()\n",
    "\n",
    "# imprimir informações de pagamento\n",
    "\n",
    "forma_pagamento = fi.forma_de_pagamento(id_compra)\n",
    "\n",
    "if not Pagamento.update(id_compra, 'forma_de_pagamento', forma_pagamento):\n",
    "    fp.mensagem_erro()"
   ]
  }
 ],
 "metadata": {
  "kernelspec": {
   "display_name": "Python 3",
   "language": "python",
   "name": "python3"
  },
  "language_info": {
   "codemirror_mode": {
    "name": "ipython",
    "version": 3
   },
   "file_extension": ".py",
   "mimetype": "text/x-python",
   "name": "python",
   "nbconvert_exporter": "python",
   "pygments_lexer": "ipython3",
   "version": "3.10.11"
  },
  "orig_nbformat": 4
 },
 "nbformat": 4,
 "nbformat_minor": 2
}
