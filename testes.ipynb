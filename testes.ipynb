{
 "cells": [
  {
   "cell_type": "code",
   "execution_count": 1,
   "metadata": {},
   "outputs": [],
   "source": [
    "import connect_to_DB\n",
    "import t_cliente as cl\n",
    "import t_compra_produto as cp\n",
    "import t_compra as cm\n",
    "import t_produto as p\n",
    "import t_vendedor as v\n",
    "import t_pagamento as pg\n",
    "import f_input as fi\n",
    "import f_print as fp\n",
    "import f_manipulacao as fm\n",
    "\n",
    "connection = connect_to_DB.connect()\n",
    "\n",
    "Cliente = cl.Table_Cliente(connection)\n",
    "Vendedor = v.Table_Vendedor(connection)\n",
    "Produto = p.Table_Produto(connection)\n",
    "Compra = cm.Table_Compra(connection)\n",
    "Compra_Produto = cp.Table_Compra_Produto(connection)\n",
    "Pagamento = pg.Table_Pagamento(connection)"
   ]
  },
  {
   "cell_type": "code",
   "execution_count": 4,
   "metadata": {},
   "outputs": [
    {
     "data": {
      "text/plain": [
       "(1,\n",
       " 7,\n",
       " 1,\n",
       " datetime.date(2023, 1, 1),\n",
       " {'Confirmada'},\n",
       " 100.0,\n",
       " 10.0,\n",
       " 90.0,\n",
       " {'Dinheiro'},\n",
       " {'Cancelado'})"
      ]
     },
     "execution_count": 4,
     "metadata": {},
     "output_type": "execute_result"
    }
   ],
   "source": [
    "Compra.read(1)"
   ]
  },
  {
   "cell_type": "code",
   "execution_count": 3,
   "metadata": {},
   "outputs": [
    {
     "name": "stdout",
     "output_type": "stream",
     "text": [
      "----------------------------------------\n",
      "Compra 1:\n",
      "Id do cliente: 7; Id do vendedor: 1\n",
      "Data: 29/02/2020; Status da compra: Confirmada\n",
      "Total: R$ 100.00\n",
      "Desconto: R$ 10.00\n",
      "Total com desconto: R$ 90.00\n",
      "Status do pagamento: Cancelado; Forma de pagamento: Dinheiro\n",
      "Produtos: \n",
      "id | nome | preço | quantidade\n",
      "1 | Bola | 39.99 | 1\n",
      "2 | vuvuzela | 9.99 | 2\n",
      "3 | vuvuzela | 9.99 | 3\n",
      "----------------------------------------\n",
      "Que tipo de informação deseja atualizar? \n",
      "1: id_vendedor\n",
      "2: id_cliente\n",
      "3: status_da_compra\n",
      "4: data_da_compra\n",
      "Digite no formato aaaa-mm-dd\n",
      "----------------------------------------\n",
      "Operação realizada com sucesso!\n",
      "----------------------------------------\n",
      "----------------------------------------\n",
      "-------------WE ARE RICHMOND------------\n",
      "----------------------------------------\n"
     ]
    }
   ],
   "source": [
    "fm.atualizar_compra()"
   ]
  }
 ],
 "metadata": {
  "kernelspec": {
   "display_name": "Python 3",
   "language": "python",
   "name": "python3"
  },
  "language_info": {
   "codemirror_mode": {
    "name": "ipython",
    "version": 3
   },
   "file_extension": ".py",
   "mimetype": "text/x-python",
   "name": "python",
   "nbconvert_exporter": "python",
   "pygments_lexer": "ipython3",
   "version": "3.10.11"
  },
  "orig_nbformat": 4
 },
 "nbformat": 4,
 "nbformat_minor": 2
}
