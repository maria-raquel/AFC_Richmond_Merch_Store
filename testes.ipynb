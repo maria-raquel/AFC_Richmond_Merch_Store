{
 "cells": [
  {
   "cell_type": "code",
   "execution_count": 1,
   "metadata": {},
   "outputs": [],
   "source": [
    "import connect_to_DB\n",
    "import t_cliente as cl\n",
    "import t_compra_produto as cp\n",
    "import t_compra as cm\n",
    "import t_produto as p\n",
    "import t_vendedor as v\n",
    "import t_pagamento as pg\n",
    "import t_relatorio as tr\n",
    "import f_input as fi\n",
    "import f_print as fp\n",
    "import f_manipulacao as fm\n",
    "import f_relatorio as fr\n",
    "\n",
    "connection = connect_to_DB.connect()\n",
    "\n",
    "Cliente = cl.Table_Cliente(connection)\n",
    "Vendedor = v.Table_Vendedor(connection)\n",
    "Produto = p.Table_Produto(connection)\n",
    "Compra = cm.Table_Compra(connection)\n",
    "Compra_Produto = cp.Table_Compra_Produto(connection)\n",
    "Pagamento = pg.Table_Pagamento(connection)\n",
    "Consulta = tr.Consulta_Relatorio(connection)"
   ]
  },
  {
   "cell_type": "code",
   "execution_count": 8,
   "metadata": {},
   "outputs": [],
   "source": [
    "from random import *"
   ]
  },
  {
   "cell_type": "code",
   "execution_count": 3,
   "metadata": {},
   "outputs": [],
   "source": [
    "meses = {'01': 'Janeiro', '02': 'Fevereiro', '03': 'Março', '04': 'Abril',\n",
    "         '05': 'Maio', '06': 'Junho', '07': 'Julho', '08': 'Agosto',\n",
    "         '09': 'Setembro', '10': 'Outubro', '11': 'Novembro', '12': 'Dezembro'}"
   ]
  },
  {
   "cell_type": "code",
   "execution_count": 10,
   "metadata": {},
   "outputs": [],
   "source": [
    "# COMPRAS\n",
    "#INSERT INTO compra (id_cliente, id_vendedor, data_da_compra, status_da_compra) VALUES \n",
    "# (47, 11, ‘2023-05-29’, 'Confirmada')\n",
    "\n",
    "# randint(32,52) -> clientes\n",
    "# randint(10, 12) -> vendedores\n",
    "\n",
    "#for i in range(30):\n",
    "#    print(f\"({randint(32,52)}, {randint(10, 12)}, ‘2023-05-{randint(1,31)}’, 'Confirmada')\")"
   ]
  },
  {
   "cell_type": "code",
   "execution_count": 12,
   "metadata": {},
   "outputs": [
    {
     "name": "stdout",
     "output_type": "stream",
     "text": [
      "(72, 47, 2),\n",
      "(73, 47, 2),\n",
      "(74, 44, 1),\n",
      "(75, 42, 3),\n",
      "(76, 36, 1),\n",
      "(77, 29, 5),\n",
      "(78, 41, 5),\n",
      "(79, 32, 2),\n",
      "(80, 29, 5),\n",
      "(81, 45, 5),\n",
      "(82, 31, 5),\n",
      "(83, 47, 4),\n",
      "(84, 36, 3),\n",
      "(85, 36, 1),\n",
      "(86, 33, 2),\n",
      "(87, 29, 5),\n",
      "(88, 31, 1),\n",
      "(89, 32, 5),\n",
      "(90, 31, 1),\n",
      "(91, 43, 3),\n",
      "(92, 43, 2),\n",
      "(93, 37, 1),\n",
      "(94, 41, 2),\n",
      "(95, 41, 2),\n",
      "(96, 43, 2),\n",
      "(97, 37, 5),\n",
      "(98, 45, 2),\n",
      "(99, 44, 2),\n",
      "(100, 42, 2),\n",
      "(101, 34, 2),\n"
     ]
    }
   ],
   "source": [
    "# Produto compra\n",
    "\n",
    "# INSERT INTO Produto_Compra (id_compra, id_produto, quantidade) VALUES\n",
    "# (53, 29, 2),\n",
    "\n",
    "# compra -> 72 - 102\n",
    "\n",
    "for i in range(72, 102):\n",
    "    print(f\"({i}, {randint(29,47)}, {randint(1,5)}),\")"
   ]
  }
 ],
 "metadata": {
  "kernelspec": {
   "display_name": "Python 3",
   "language": "python",
   "name": "python3"
  },
  "language_info": {
   "codemirror_mode": {
    "name": "ipython",
    "version": 3
   },
   "file_extension": ".py",
   "mimetype": "text/x-python",
   "name": "python",
   "nbconvert_exporter": "python",
   "pygments_lexer": "ipython3",
   "version": "3.10.11"
  },
  "orig_nbformat": 4
 },
 "nbformat": 4,
 "nbformat_minor": 2
}
