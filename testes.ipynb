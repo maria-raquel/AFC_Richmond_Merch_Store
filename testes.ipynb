{
 "cells": [
  {
   "cell_type": "code",
   "execution_count": 1,
   "metadata": {},
   "outputs": [],
   "source": [
    "import connect_to_DB\n",
    "import t_cliente as cl\n",
    "import t_compra_produto as cp\n",
    "import t_compra as cm\n",
    "import t_produto as p\n",
    "import t_vendedor as v"
   ]
  },
  {
   "cell_type": "code",
   "execution_count": 2,
   "metadata": {},
   "outputs": [
    {
     "name": "stdout",
     "output_type": "stream",
     "text": [
      "Foi\n"
     ]
    }
   ],
   "source": [
    "connection = connect_to_DB.connect()\n",
    "if connection:\n",
    "    print(\"Foi\")"
   ]
  },
  {
   "attachments": {},
   "cell_type": "markdown",
   "metadata": {},
   "source": [
    "### TESTES DE PRODUTO"
   ]
  },
  {
   "cell_type": "code",
   "execution_count": 3,
   "metadata": {},
   "outputs": [],
   "source": [
    "Produto = p.Table_Produto(connection)"
   ]
  },
  {
   "cell_type": "code",
   "execution_count": 4,
   "metadata": {},
   "outputs": [
    {
     "name": "stdout",
     "output_type": "stream",
     "text": [
      "criou\n"
     ]
    }
   ],
   "source": [
    "if Produto.create(\"Choro\", 50, 10, \"Vestuario\", \"Brasil\", 1):\n",
    "    print('criou')"
   ]
  },
  {
   "cell_type": "code",
   "execution_count": 5,
   "metadata": {},
   "outputs": [
    {
     "data": {
      "text/plain": [
       "(26, 'Choro', 50.0, 10, {'Vestuario'}, 'Brasil', 1)"
      ]
     },
     "execution_count": 5,
     "metadata": {},
     "output_type": "execute_result"
    }
   ],
   "source": [
    "Produto.read_by_id(26)"
   ]
  },
  {
   "cell_type": "code",
   "execution_count": 6,
   "metadata": {},
   "outputs": [
    {
     "data": {
      "text/plain": [
       "[(26, 'Choro', 50.0, 10, {'Vestuario'}, 'Brasil', 1),\n",
       " (27, 'Choro', 50.0, 10, {'Vestuario'}, 'Brasil', 1),\n",
       " (28, 'Choro', 50.0, 10, {'Vestuario'}, 'Brasil', 1),\n",
       " (29, 'Choro', 50.0, 10, {'Vestuario'}, 'Brasil', 1),\n",
       " (30, 'Choro', 50.0, 10, {'Vestuario'}, 'Brasil', 1),\n",
       " (31, 'Choro', 50.0, 10, {'Vestuario'}, 'Brasil', 1),\n",
       " (32, 'Choro', 50.0, 10, {'Vestuario'}, 'Brasil', 1),\n",
       " (33, 'Choro', 50.0, 10, {'Vestuario'}, 'Brasil', 1),\n",
       " (34, 'Choro', 50.0, 10, {'Vestuario'}, 'Brasil', 1),\n",
       " (35, 'Choro', 50.0, 10, {'Vestuario'}, 'Brasil', 1),\n",
       " (36, 'Choro', 50.0, 10, {'Vestuario'}, 'Brasil', 1),\n",
       " (37, 'Choro', 50.0, 10, {'Vestuario'}, 'Brasil', 1),\n",
       " (38, 'Choro', 50.0, 10, {'Vestuario'}, 'Brasil', 1),\n",
       " (39, 'Choro', 50.0, 10, {'Vestuario'}, 'Brasil', 1),\n",
       " (40, 'Choro', 50.0, 10, {'Vestuario'}, 'Brasil', 1),\n",
       " (41, 'Choro', 50.0, 10, {'Vestuario'}, 'Brasil', 1),\n",
       " (42, 'Choro', 50.0, 10, {'Vestuario'}, 'Brasil', 1),\n",
       " (43, 'Choro', 50.0, 10, {'Vestuario'}, 'Brasil', 1),\n",
       " (44, 'Choro', 50.0, 10, {'Vestuario'}, 'Brasil', 1),\n",
       " (45, 'Choro', 50.0, 10, {'Vestuario'}, 'Brasil', 1),\n",
       " (46, 'Choro', 50.0, 10, {'Vestuario'}, 'Brasil', 1)]"
      ]
     },
     "execution_count": 6,
     "metadata": {},
     "output_type": "execute_result"
    }
   ],
   "source": [
    "Produto.read_by_name('choro')"
   ]
  },
  {
   "cell_type": "code",
   "execution_count": 7,
   "metadata": {},
   "outputs": [
    {
     "name": "stdout",
     "output_type": "stream",
     "text": [
      "atualizou\n"
     ]
    }
   ],
   "source": [
    "if Produto.update(1, 'categoria', 'Vestuario'):\n",
    "    print('atualizou')"
   ]
  },
  {
   "cell_type": "code",
   "execution_count": 8,
   "metadata": {},
   "outputs": [
    {
     "name": "stdout",
     "output_type": "stream",
     "text": [
      "deletou\n"
     ]
    }
   ],
   "source": [
    "if Produto.delete(25):\n",
    "    print('deletou')"
   ]
  },
  {
   "cell_type": "code",
   "execution_count": 9,
   "metadata": {},
   "outputs": [
    {
     "data": {
      "text/plain": [
       "[(1, 'foi', 50.0, 23, {'Vestuario'}, 'Brasil', 1),\n",
       " (2, 'Camiseta', 49.99, 10, {'Vestuario'}, 'Brasil', 1),\n",
       " (3, 'Camiseta', 50.0, 0, {'Vestuario'}, 'Brasil', 1),\n",
       " (4, 'Camiseta', 50.0, 10, {'Outros'}, 'Brasil', 1),\n",
       " (5, 'Camiseta', 50.0, 10, {'Vestuario'}, 'Mari', 1),\n",
       " (6, 'Camiseta', 50.0, 10, {'Vestuario'}, 'Brasil', 1),\n",
       " (7, 'Camiseta', 50.0, 20, {'Vestuario'}, 'Brasil', 1),\n",
       " (8, 'Camiseta', 50.0, 10, {'Vestuario'}, 'Brasil', 1),\n",
       " (9, 'Camiseta', 50.0, 10, {'Vestuario'}, 'Brasil', 1),\n",
       " (10, 'Camiseta', 50.0, 10, {'Vestuario'}, 'Brasil', 1),\n",
       " (11, 'Camiseta', 50.0, 10, {'Vestuario'}, 'Brasil', 1),\n",
       " (12, 'Camiseta', 50.0, 10, {'Vestuario'}, 'Brasil', 1),\n",
       " (13, 'Camiseta', 50.0, 10, {'Vestuario'}, 'Brasil', 1),\n",
       " (14, 'Camiseta', 50.0, 10, {'Vestuario'}, 'Brasil', 1),\n",
       " (15, 'Camiseta', 50.0, 10, {'Vestuario'}, 'Brasil', 1),\n",
       " (16, 'Camiseta', 50.0, 10, {'Vestuario'}, 'Brasil', 1),\n",
       " (17, 'Camiseta', 50.0, 10, {'Vestuario'}, 'Brasil', 1),\n",
       " (18, 'Camiseta', 50.0, 10, {'Vestuario'}, 'Brasil', 1),\n",
       " (19, 'Camiseta', 50.0, 10, {'Vestuario'}, 'Brasil', 1),\n",
       " (20, 'Camiseta', 50.0, 10, {'Vestuario'}, 'Brasil', 1),\n",
       " (21, 'Camiseta', 50.0, 10, {'Vestuario'}, 'Brasil', 1),\n",
       " (22, 'Camiseta', 50.0, 10, {'Vestuario'}, 'Brasil', 1),\n",
       " (23, 'Camiseta', 50.0, 10, {'Vestuario'}, 'Brasil', 1),\n",
       " (24, 'Camiseta', 50.0, 10, {'Vestuario'}, 'Brasil', 1),\n",
       " (25, 'Camiseta', 50.0, 10, {'Vestuario'}, 'Brasil', 0),\n",
       " (26, 'Choro', 50.0, 10, {'Vestuario'}, 'Brasil', 1),\n",
       " (27, 'Choro', 50.0, 10, {'Vestuario'}, 'Brasil', 1),\n",
       " (28, 'Choro', 50.0, 10, {'Vestuario'}, 'Brasil', 1),\n",
       " (29, 'Choro', 50.0, 10, {'Vestuario'}, 'Brasil', 1),\n",
       " (30, 'Choro', 50.0, 10, {'Vestuario'}, 'Brasil', 1),\n",
       " (31, 'Choro', 50.0, 10, {'Vestuario'}, 'Brasil', 1),\n",
       " (32, 'Choro', 50.0, 10, {'Vestuario'}, 'Brasil', 1),\n",
       " (33, 'Choro', 50.0, 10, {'Vestuario'}, 'Brasil', 1),\n",
       " (34, 'Choro', 50.0, 10, {'Vestuario'}, 'Brasil', 1),\n",
       " (35, 'Choro', 50.0, 10, {'Vestuario'}, 'Brasil', 1),\n",
       " (36, 'Choro', 50.0, 10, {'Vestuario'}, 'Brasil', 1),\n",
       " (37, 'Choro', 50.0, 10, {'Vestuario'}, 'Brasil', 1),\n",
       " (38, 'Choro', 50.0, 10, {'Vestuario'}, 'Brasil', 1),\n",
       " (39, 'Choro', 50.0, 10, {'Vestuario'}, 'Brasil', 1),\n",
       " (40, 'Choro', 50.0, 10, {'Vestuario'}, 'Brasil', 1),\n",
       " (41, 'Choro', 50.0, 10, {'Vestuario'}, 'Brasil', 1),\n",
       " (42, 'Choro', 50.0, 10, {'Vestuario'}, 'Brasil', 1),\n",
       " (43, 'Choro', 50.0, 10, {'Vestuario'}, 'Brasil', 1),\n",
       " (44, 'Choro', 50.0, 10, {'Vestuario'}, 'Brasil', 1),\n",
       " (45, 'Choro', 50.0, 10, {'Vestuario'}, 'Brasil', 1),\n",
       " (46, 'Choro', 50.0, 10, {'Vestuario'}, 'Brasil', 1)]"
      ]
     },
     "execution_count": 9,
     "metadata": {},
     "output_type": "execute_result"
    }
   ],
   "source": [
    "Produto.read_all()"
   ]
  },
  {
   "cell_type": "code",
   "execution_count": 10,
   "metadata": {},
   "outputs": [
    {
     "data": {
      "text/plain": [
       "[(1, 'foi', 50.0, 23, {'Vestuario'}, 'Brasil', 1),\n",
       " (2, 'Camiseta', 49.99, 10, {'Vestuario'}, 'Brasil', 1),\n",
       " (3, 'Camiseta', 50.0, 0, {'Vestuario'}, 'Brasil', 1),\n",
       " (4, 'Camiseta', 50.0, 10, {'Outros'}, 'Brasil', 1),\n",
       " (5, 'Camiseta', 50.0, 10, {'Vestuario'}, 'Mari', 1),\n",
       " (6, 'Camiseta', 50.0, 10, {'Vestuario'}, 'Brasil', 1),\n",
       " (7, 'Camiseta', 50.0, 20, {'Vestuario'}, 'Brasil', 1),\n",
       " (8, 'Camiseta', 50.0, 10, {'Vestuario'}, 'Brasil', 1),\n",
       " (9, 'Camiseta', 50.0, 10, {'Vestuario'}, 'Brasil', 1),\n",
       " (10, 'Camiseta', 50.0, 10, {'Vestuario'}, 'Brasil', 1),\n",
       " (11, 'Camiseta', 50.0, 10, {'Vestuario'}, 'Brasil', 1),\n",
       " (12, 'Camiseta', 50.0, 10, {'Vestuario'}, 'Brasil', 1),\n",
       " (13, 'Camiseta', 50.0, 10, {'Vestuario'}, 'Brasil', 1),\n",
       " (14, 'Camiseta', 50.0, 10, {'Vestuario'}, 'Brasil', 1),\n",
       " (15, 'Camiseta', 50.0, 10, {'Vestuario'}, 'Brasil', 1),\n",
       " (16, 'Camiseta', 50.0, 10, {'Vestuario'}, 'Brasil', 1),\n",
       " (17, 'Camiseta', 50.0, 10, {'Vestuario'}, 'Brasil', 1),\n",
       " (18, 'Camiseta', 50.0, 10, {'Vestuario'}, 'Brasil', 1),\n",
       " (19, 'Camiseta', 50.0, 10, {'Vestuario'}, 'Brasil', 1),\n",
       " (20, 'Camiseta', 50.0, 10, {'Vestuario'}, 'Brasil', 1),\n",
       " (21, 'Camiseta', 50.0, 10, {'Vestuario'}, 'Brasil', 1),\n",
       " (22, 'Camiseta', 50.0, 10, {'Vestuario'}, 'Brasil', 1),\n",
       " (23, 'Camiseta', 50.0, 10, {'Vestuario'}, 'Brasil', 1),\n",
       " (24, 'Camiseta', 50.0, 10, {'Vestuario'}, 'Brasil', 1),\n",
       " (26, 'Choro', 50.0, 10, {'Vestuario'}, 'Brasil', 1),\n",
       " (27, 'Choro', 50.0, 10, {'Vestuario'}, 'Brasil', 1),\n",
       " (28, 'Choro', 50.0, 10, {'Vestuario'}, 'Brasil', 1),\n",
       " (29, 'Choro', 50.0, 10, {'Vestuario'}, 'Brasil', 1),\n",
       " (30, 'Choro', 50.0, 10, {'Vestuario'}, 'Brasil', 1),\n",
       " (31, 'Choro', 50.0, 10, {'Vestuario'}, 'Brasil', 1),\n",
       " (32, 'Choro', 50.0, 10, {'Vestuario'}, 'Brasil', 1),\n",
       " (33, 'Choro', 50.0, 10, {'Vestuario'}, 'Brasil', 1),\n",
       " (34, 'Choro', 50.0, 10, {'Vestuario'}, 'Brasil', 1),\n",
       " (35, 'Choro', 50.0, 10, {'Vestuario'}, 'Brasil', 1),\n",
       " (36, 'Choro', 50.0, 10, {'Vestuario'}, 'Brasil', 1),\n",
       " (37, 'Choro', 50.0, 10, {'Vestuario'}, 'Brasil', 1),\n",
       " (38, 'Choro', 50.0, 10, {'Vestuario'}, 'Brasil', 1),\n",
       " (39, 'Choro', 50.0, 10, {'Vestuario'}, 'Brasil', 1),\n",
       " (40, 'Choro', 50.0, 10, {'Vestuario'}, 'Brasil', 1),\n",
       " (41, 'Choro', 50.0, 10, {'Vestuario'}, 'Brasil', 1),\n",
       " (42, 'Choro', 50.0, 10, {'Vestuario'}, 'Brasil', 1),\n",
       " (43, 'Choro', 50.0, 10, {'Vestuario'}, 'Brasil', 1),\n",
       " (44, 'Choro', 50.0, 10, {'Vestuario'}, 'Brasil', 1),\n",
       " (45, 'Choro', 50.0, 10, {'Vestuario'}, 'Brasil', 1),\n",
       " (46, 'Choro', 50.0, 10, {'Vestuario'}, 'Brasil', 1)]"
      ]
     },
     "execution_count": 10,
     "metadata": {},
     "output_type": "execute_result"
    }
   ],
   "source": [
    "Produto.read_all_available()"
   ]
  },
  {
   "cell_type": "code",
   "execution_count": 11,
   "metadata": {},
   "outputs": [
    {
     "name": "stdout",
     "output_type": "stream",
     "text": [
      "update nome\n",
      "update preço\n",
      "update estoque\n",
      "update categoria\n",
      "updade local de fabricação\n",
      "update disponibilidade\n"
     ]
    }
   ],
   "source": [
    "if Produto.update(1, 'nome', 'foi'):\n",
    "    print(\"update nome\")\n",
    "if Produto.update(2, 'preco', 49.99):\n",
    "    print(\"update preço\")\n",
    "if Produto.update(3, 'estoque', 0):\n",
    "    print(\"update estoque\")\n",
    "if Produto.update(4, 'categoria', 'Outros'):\n",
    "    print(\"update categoria\")\n",
    "if Produto.update(5, 'local_de_fabricacao', 'Mari'):\n",
    "    print(\"updade local de fabricação\")\n",
    "if Produto.update(21, 'disponibilidade', 1):\n",
    "    print(\"update disponibilidade\")"
   ]
  },
  {
   "attachments": {},
   "cell_type": "markdown",
   "metadata": {},
   "source": [
    "### TESTES DE VENDEDOR"
   ]
  },
  {
   "cell_type": "code",
   "execution_count": 12,
   "metadata": {},
   "outputs": [],
   "source": [
    "Vendedor = v.Table_Vendedor(connection)"
   ]
  },
  {
   "cell_type": "code",
   "execution_count": 13,
   "metadata": {},
   "outputs": [],
   "source": [
    "if Vendedor.create('123456789', 'Joana', 'F', 'ativo'):\n",
    "    print('criou')"
   ]
  },
  {
   "cell_type": "code",
   "execution_count": 14,
   "metadata": {},
   "outputs": [
    {
     "data": {
      "text/plain": [
       "(1, '987654321', 'João', {'M'}, {'ex-colaborador'})"
      ]
     },
     "execution_count": 14,
     "metadata": {},
     "output_type": "execute_result"
    }
   ],
   "source": [
    "Vendedor.read_by_id(1)"
   ]
  },
  {
   "cell_type": "code",
   "execution_count": 15,
   "metadata": {},
   "outputs": [
    {
     "data": {
      "text/plain": [
       "[(2, '123456789', 'Joana', {'F'}, {'ativo'})]"
      ]
     },
     "execution_count": 15,
     "metadata": {},
     "output_type": "execute_result"
    }
   ],
   "source": [
    "Vendedor.read_by_name('Joana')"
   ]
  },
  {
   "cell_type": "code",
   "execution_count": 16,
   "metadata": {},
   "outputs": [
    {
     "data": {
      "text/plain": [
       "[(2, '123456789', 'Joana', {'F'}, {'ativo'})]"
      ]
     },
     "execution_count": 16,
     "metadata": {},
     "output_type": "execute_result"
    }
   ],
   "source": [
    "Vendedor.read_all_active()"
   ]
  },
  {
   "cell_type": "code",
   "execution_count": 17,
   "metadata": {},
   "outputs": [
    {
     "data": {
      "text/plain": [
       "[(1, '987654321', 'João', {'M'}, {'ex-colaborador'}),\n",
       " (2, '123456789', 'Joana', {'F'}, {'ativo'})]"
      ]
     },
     "execution_count": 17,
     "metadata": {},
     "output_type": "execute_result"
    }
   ],
   "source": [
    "Vendedor.read_all()"
   ]
  },
  {
   "cell_type": "code",
   "execution_count": 18,
   "metadata": {},
   "outputs": [
    {
     "name": "stdout",
     "output_type": "stream",
     "text": [
      "nome\n",
      "sexo\n",
      "situacao\n",
      "cpf\n"
     ]
    }
   ],
   "source": [
    "if Vendedor.update(1, 'nome', 'João'):\n",
    "    print('nome')\n",
    "if Vendedor.update(1, 'sexo', 'M'):\n",
    "    print('sexo')\n",
    "if Vendedor.update(1, 'situacao', 'de ferias'):\n",
    "    print('situacao')\n",
    "if Vendedor.update(1, 'cpf', '987654321'):\n",
    "    print('cpf')"
   ]
  },
  {
   "cell_type": "code",
   "execution_count": 19,
   "metadata": {},
   "outputs": [
    {
     "name": "stdout",
     "output_type": "stream",
     "text": [
      "deletou\n"
     ]
    }
   ],
   "source": [
    "if Vendedor.delete(1):\n",
    "    print('deletou')"
   ]
  },
  {
   "cell_type": "code",
   "execution_count": 20,
   "metadata": {},
   "outputs": [
    {
     "data": {
      "text/plain": [
       "[(1, '987654321', 'João', {'M'}, {'ex-colaborador'}),\n",
       " (2, '123456789', 'Joana', {'F'}, {'ativo'})]"
      ]
     },
     "execution_count": 20,
     "metadata": {},
     "output_type": "execute_result"
    }
   ],
   "source": [
    "Vendedor.read_all()"
   ]
  },
  {
   "cell_type": "code",
   "execution_count": 21,
   "metadata": {},
   "outputs": [
    {
     "data": {
      "text/plain": [
       "[(2, '123456789', 'Joana', {'F'}, {'ativo'})]"
      ]
     },
     "execution_count": 21,
     "metadata": {},
     "output_type": "execute_result"
    }
   ],
   "source": [
    "Vendedor.read_all_active()"
   ]
  },
  {
   "attachments": {},
   "cell_type": "markdown",
   "metadata": {},
   "source": [
    "### TESTES DE CLIENTE"
   ]
  },
  {
   "cell_type": "code",
   "execution_count": 22,
   "metadata": {},
   "outputs": [],
   "source": [
    "Cliente = cl.Table_Cliente(connection)"
   ]
  },
  {
   "cell_type": "code",
   "execution_count": 23,
   "metadata": {},
   "outputs": [],
   "source": [
    "if Cliente.create('000056749', 'Joana', 1, 1, '1999-01-01', 'F', 'Rio de Janeiro'):\n",
    "    print('criou')"
   ]
  },
  {
   "cell_type": "code",
   "execution_count": 24,
   "metadata": {},
   "outputs": [],
   "source": [
    "Cliente.read_by_id(1)"
   ]
  },
  {
   "cell_type": "code",
   "execution_count": 25,
   "metadata": {},
   "outputs": [
    {
     "data": {
      "text/plain": [
       "[(3,\n",
       "  '123456749',\n",
       "  'Joana',\n",
       "  1,\n",
       "  1,\n",
       "  datetime.date(1999, 1, 1),\n",
       "  {'F'},\n",
       "  'Rio de Janeiro'),\n",
       " (12,\n",
       "  '000056749',\n",
       "  'Joana',\n",
       "  1,\n",
       "  1,\n",
       "  datetime.date(1999, 1, 1),\n",
       "  {'F'},\n",
       "  'Rio de Janeiro')]"
      ]
     },
     "execution_count": 25,
     "metadata": {},
     "output_type": "execute_result"
    }
   ],
   "source": [
    "Cliente.read_by_name('Joana')"
   ]
  },
  {
   "cell_type": "code",
   "execution_count": 26,
   "metadata": {},
   "outputs": [
    {
     "data": {
      "text/plain": [
       "(3,\n",
       " '123456749',\n",
       " 'Joana',\n",
       " 1,\n",
       " 1,\n",
       " datetime.date(1999, 1, 1),\n",
       " {'F'},\n",
       " 'Rio de Janeiro')"
      ]
     },
     "execution_count": 26,
     "metadata": {},
     "output_type": "execute_result"
    }
   ],
   "source": [
    "Cliente.read_by_cpf('123456749')"
   ]
  },
  {
   "cell_type": "code",
   "execution_count": 27,
   "metadata": {},
   "outputs": [
    {
     "data": {
      "text/plain": [
       "[(3,\n",
       "  '123456749',\n",
       "  'Joana',\n",
       "  1,\n",
       "  1,\n",
       "  datetime.date(1999, 1, 1),\n",
       "  {'F'},\n",
       "  'Rio de Janeiro'),\n",
       " (12,\n",
       "  '000056749',\n",
       "  'Joana',\n",
       "  1,\n",
       "  1,\n",
       "  datetime.date(1999, 1, 1),\n",
       "  {'F'},\n",
       "  'Rio de Janeiro')]"
      ]
     },
     "execution_count": 27,
     "metadata": {},
     "output_type": "execute_result"
    }
   ],
   "source": [
    "Cliente.read_all()"
   ]
  },
  {
   "cell_type": "code",
   "execution_count": 28,
   "metadata": {},
   "outputs": [
    {
     "name": "stdout",
     "output_type": "stream",
     "text": [
      "nome\n",
      "sexo\n",
      "cidade_natal\n",
      "cpf\n",
      "is_flamengo\n",
      "assiste_one_piece\n",
      "data_nascimento\n"
     ]
    }
   ],
   "source": [
    "if Cliente.update(1, 'nome', 'João'):\n",
    "    print('nome')\n",
    "if Cliente.update(1, 'sexo', 'M'):\n",
    "    print('sexo')\n",
    "if Cliente.update(1, 'cidade_natal', 'São Paulo'):\n",
    "    print('cidade_natal')\n",
    "if Cliente.update(1, 'cpf', '987654321'):\n",
    "    print('cpf')\n",
    "if Cliente.update(1, 'is_flamengo', 0):\n",
    "    print('is_flamengo')\n",
    "if Cliente.update(1, 'assiste_one_piece', 0):\n",
    "    print('assiste_one_piece')\n",
    "if Cliente.update(1, 'data_nascimento', '1999-01-02'):\n",
    "    print('data_nascimento')"
   ]
  },
  {
   "cell_type": "code",
   "execution_count": 29,
   "metadata": {},
   "outputs": [
    {
     "name": "stdout",
     "output_type": "stream",
     "text": [
      "deletou\n"
     ]
    }
   ],
   "source": [
    "if Cliente.delete(1):\n",
    "    print('deletou')"
   ]
  },
  {
   "attachments": {},
   "cell_type": "markdown",
   "metadata": {},
   "source": [
    "### TESTES DE COMPRA"
   ]
  },
  {
   "cell_type": "code",
   "execution_count": 30,
   "metadata": {},
   "outputs": [],
   "source": [
    "Compra = cm.Table_Compra(connection)"
   ]
  },
  {
   "cell_type": "code",
   "execution_count": 31,
   "metadata": {},
   "outputs": [
    {
     "data": {
      "text/plain": [
       "1"
      ]
     },
     "execution_count": 31,
     "metadata": {},
     "output_type": "execute_result"
    }
   ],
   "source": [
    "Compra.create(3, 2, '2021-01-01', 100, 10, 'Fiado', 'Pendente')"
   ]
  },
  {
   "cell_type": "code",
   "execution_count": 32,
   "metadata": {},
   "outputs": [
    {
     "data": {
      "text/plain": [
       "(1,\n",
       " 12,\n",
       " 1,\n",
       " datetime.date(2021, 1, 2),\n",
       " 200.0,\n",
       " 80.0,\n",
       " {'Dinheiro'},\n",
       " {'Confirmado'},\n",
       " 120.0)"
      ]
     },
     "execution_count": 32,
     "metadata": {},
     "output_type": "execute_result"
    }
   ],
   "source": [
    "Compra.read(1)"
   ]
  },
  {
   "cell_type": "code",
   "execution_count": 33,
   "metadata": {},
   "outputs": [
    {
     "data": {
      "text/plain": [
       "[(1,\n",
       "  12,\n",
       "  1,\n",
       "  datetime.date(2021, 1, 2),\n",
       "  200.0,\n",
       "  80.0,\n",
       "  {'Dinheiro'},\n",
       "  {'Confirmado'},\n",
       "  120.0),\n",
       " (2,\n",
       "  3,\n",
       "  2,\n",
       "  datetime.date(2021, 1, 1),\n",
       "  100.0,\n",
       "  10.0,\n",
       "  {'Fiado'},\n",
       "  {'Cancelado'},\n",
       "  90.0),\n",
       " (3,\n",
       "  3,\n",
       "  2,\n",
       "  datetime.date(2021, 1, 1),\n",
       "  100.0,\n",
       "  10.0,\n",
       "  {'Fiado'},\n",
       "  {'Pendente'},\n",
       "  90.0),\n",
       " (4,\n",
       "  3,\n",
       "  2,\n",
       "  datetime.date(2021, 1, 1),\n",
       "  100.0,\n",
       "  10.0,\n",
       "  {'Fiado'},\n",
       "  {'Pendente'},\n",
       "  90.0),\n",
       " (5,\n",
       "  3,\n",
       "  2,\n",
       "  datetime.date(2021, 1, 1),\n",
       "  100.0,\n",
       "  10.0,\n",
       "  {'Fiado'},\n",
       "  {'Pendente'},\n",
       "  90.0),\n",
       " (6, 3, 2, datetime.date(2023, 4, 25), 0.0, 0.0, {'Fiado'}, {'Pendente'}, 0.0),\n",
       " (7,\n",
       "  3,\n",
       "  2,\n",
       "  datetime.date(2021, 1, 1),\n",
       "  100.0,\n",
       "  10.0,\n",
       "  {'Fiado'},\n",
       "  {'Pendente'},\n",
       "  90.0),\n",
       " (8, 3, 2, datetime.date(2023, 4, 25), 0.0, 0.0, {'Fiado'}, {'Pendente'}, 0.0),\n",
       " (9,\n",
       "  3,\n",
       "  2,\n",
       "  datetime.date(2021, 1, 1),\n",
       "  100.0,\n",
       "  10.0,\n",
       "  {'Fiado'},\n",
       "  {'Pendente'},\n",
       "  90.0),\n",
       " (10,\n",
       "  3,\n",
       "  2,\n",
       "  datetime.date(2021, 1, 1),\n",
       "  100.0,\n",
       "  10.0,\n",
       "  {'Fiado'},\n",
       "  {'Pendente'},\n",
       "  90.0)]"
      ]
     },
     "execution_count": 33,
     "metadata": {},
     "output_type": "execute_result"
    }
   ],
   "source": [
    "Compra.read_all()"
   ]
  },
  {
   "cell_type": "code",
   "execution_count": 34,
   "metadata": {},
   "outputs": [
    {
     "data": {
      "text/plain": [
       "[(2,\n",
       "  3,\n",
       "  2,\n",
       "  datetime.date(2021, 1, 1),\n",
       "  100.0,\n",
       "  10.0,\n",
       "  {'Fiado'},\n",
       "  {'Cancelado'},\n",
       "  90.0),\n",
       " (3,\n",
       "  3,\n",
       "  2,\n",
       "  datetime.date(2021, 1, 1),\n",
       "  100.0,\n",
       "  10.0,\n",
       "  {'Fiado'},\n",
       "  {'Pendente'},\n",
       "  90.0),\n",
       " (4,\n",
       "  3,\n",
       "  2,\n",
       "  datetime.date(2021, 1, 1),\n",
       "  100.0,\n",
       "  10.0,\n",
       "  {'Fiado'},\n",
       "  {'Pendente'},\n",
       "  90.0),\n",
       " (5,\n",
       "  3,\n",
       "  2,\n",
       "  datetime.date(2021, 1, 1),\n",
       "  100.0,\n",
       "  10.0,\n",
       "  {'Fiado'},\n",
       "  {'Pendente'},\n",
       "  90.0),\n",
       " (6, 3, 2, datetime.date(2023, 4, 25), 0.0, 0.0, {'Fiado'}, {'Pendente'}, 0.0),\n",
       " (7,\n",
       "  3,\n",
       "  2,\n",
       "  datetime.date(2021, 1, 1),\n",
       "  100.0,\n",
       "  10.0,\n",
       "  {'Fiado'},\n",
       "  {'Pendente'},\n",
       "  90.0),\n",
       " (8, 3, 2, datetime.date(2023, 4, 25), 0.0, 0.0, {'Fiado'}, {'Pendente'}, 0.0),\n",
       " (9,\n",
       "  3,\n",
       "  2,\n",
       "  datetime.date(2021, 1, 1),\n",
       "  100.0,\n",
       "  10.0,\n",
       "  {'Fiado'},\n",
       "  {'Pendente'},\n",
       "  90.0),\n",
       " (10,\n",
       "  3,\n",
       "  2,\n",
       "  datetime.date(2021, 1, 1),\n",
       "  100.0,\n",
       "  10.0,\n",
       "  {'Fiado'},\n",
       "  {'Pendente'},\n",
       "  90.0)]"
      ]
     },
     "execution_count": 34,
     "metadata": {},
     "output_type": "execute_result"
    }
   ],
   "source": [
    "Compra.read_all_from_cliente(3) "
   ]
  },
  {
   "cell_type": "code",
   "execution_count": 35,
   "metadata": {},
   "outputs": [
    {
     "data": {
      "text/plain": [
       "[(2,\n",
       "  3,\n",
       "  2,\n",
       "  datetime.date(2021, 1, 1),\n",
       "  100.0,\n",
       "  10.0,\n",
       "  {'Fiado'},\n",
       "  {'Cancelado'},\n",
       "  90.0),\n",
       " (3,\n",
       "  3,\n",
       "  2,\n",
       "  datetime.date(2021, 1, 1),\n",
       "  100.0,\n",
       "  10.0,\n",
       "  {'Fiado'},\n",
       "  {'Pendente'},\n",
       "  90.0),\n",
       " (4,\n",
       "  3,\n",
       "  2,\n",
       "  datetime.date(2021, 1, 1),\n",
       "  100.0,\n",
       "  10.0,\n",
       "  {'Fiado'},\n",
       "  {'Pendente'},\n",
       "  90.0),\n",
       " (5,\n",
       "  3,\n",
       "  2,\n",
       "  datetime.date(2021, 1, 1),\n",
       "  100.0,\n",
       "  10.0,\n",
       "  {'Fiado'},\n",
       "  {'Pendente'},\n",
       "  90.0),\n",
       " (6, 3, 2, datetime.date(2023, 4, 25), 0.0, 0.0, {'Fiado'}, {'Pendente'}, 0.0),\n",
       " (7,\n",
       "  3,\n",
       "  2,\n",
       "  datetime.date(2021, 1, 1),\n",
       "  100.0,\n",
       "  10.0,\n",
       "  {'Fiado'},\n",
       "  {'Pendente'},\n",
       "  90.0),\n",
       " (8, 3, 2, datetime.date(2023, 4, 25), 0.0, 0.0, {'Fiado'}, {'Pendente'}, 0.0),\n",
       " (9,\n",
       "  3,\n",
       "  2,\n",
       "  datetime.date(2021, 1, 1),\n",
       "  100.0,\n",
       "  10.0,\n",
       "  {'Fiado'},\n",
       "  {'Pendente'},\n",
       "  90.0),\n",
       " (10,\n",
       "  3,\n",
       "  2,\n",
       "  datetime.date(2021, 1, 1),\n",
       "  100.0,\n",
       "  10.0,\n",
       "  {'Fiado'},\n",
       "  {'Pendente'},\n",
       "  90.0)]"
      ]
     },
     "execution_count": 35,
     "metadata": {},
     "output_type": "execute_result"
    }
   ],
   "source": [
    "Compra.read_all_from_vendedor(2)"
   ]
  },
  {
   "cell_type": "code",
   "execution_count": 36,
   "metadata": {},
   "outputs": [
    {
     "name": "stdout",
     "output_type": "stream",
     "text": [
      "cliente\n",
      "vendedor\n",
      "data\n",
      "total\n",
      "desconto\n",
      "forma de pagamento\n",
      "status de pagamento\n"
     ]
    }
   ],
   "source": [
    "if Compra.update(1, 'id_cliente', 12):\n",
    "    print('cliente')\n",
    "if Compra.update(1, 'id_vendedor', 1):\n",
    "    print('vendedor')\n",
    "if Compra.update(1, 'data_da_compra', '2021-01-02'):\n",
    "    print('data')\n",
    "if Compra.update(1, 'total', 200):\n",
    "    print('total')\n",
    "if Compra.update(1, 'desconto_aplicado', 80):\n",
    "    print('desconto')\n",
    "if Compra.update(1, 'forma_de_pagamento', 'Dinheiro'):\n",
    "    print('forma de pagamento')\n",
    "if Compra.update(1, 'status_do_pagamento', 'Confirmado'):\n",
    "    print('status de pagamento')"
   ]
  },
  {
   "cell_type": "code",
   "execution_count": 37,
   "metadata": {},
   "outputs": [
    {
     "data": {
      "text/plain": [
       "1"
      ]
     },
     "execution_count": 37,
     "metadata": {},
     "output_type": "execute_result"
    }
   ],
   "source": [
    "Compra.delete(2)"
   ]
  },
  {
   "cell_type": "code",
   "execution_count": 38,
   "metadata": {},
   "outputs": [],
   "source": [
    "Compra_Produto = cp.Table_Compra_Produto(connection)"
   ]
  },
  {
   "cell_type": "code",
   "execution_count": 39,
   "metadata": {},
   "outputs": [
    {
     "data": {
      "text/plain": [
       "0"
      ]
     },
     "execution_count": 39,
     "metadata": {},
     "output_type": "execute_result"
    }
   ],
   "source": [
    "Compra_Produto.create(3, 1, 1)"
   ]
  },
  {
   "cell_type": "code",
   "execution_count": 41,
   "metadata": {},
   "outputs": [
    {
     "data": {
      "text/plain": [
       "1"
      ]
     },
     "execution_count": 41,
     "metadata": {},
     "output_type": "execute_result"
    }
   ],
   "source": [
    "Compra_Produto.read(3, 1)"
   ]
  },
  {
   "cell_type": "code",
   "execution_count": 42,
   "metadata": {},
   "outputs": [
    {
     "data": {
      "text/plain": [
       "1"
      ]
     },
     "execution_count": 42,
     "metadata": {},
     "output_type": "execute_result"
    }
   ],
   "source": [
    "Compra.create(3, 2, '2023-04-25', 0, 0, 'Fiado', 'Pendente')"
   ]
  },
  {
   "cell_type": "code",
   "execution_count": 43,
   "metadata": {},
   "outputs": [
    {
     "data": {
      "text/plain": [
       "0"
      ]
     },
     "execution_count": 43,
     "metadata": {},
     "output_type": "execute_result"
    }
   ],
   "source": [
    "Compra_Produto.create(6,5,2)"
   ]
  },
  {
   "cell_type": "code",
   "execution_count": 44,
   "metadata": {},
   "outputs": [
    {
     "data": {
      "text/plain": [
       "2"
      ]
     },
     "execution_count": 44,
     "metadata": {},
     "output_type": "execute_result"
    }
   ],
   "source": [
    "Compra_Produto.read(6,5)"
   ]
  },
  {
   "cell_type": "code",
   "execution_count": 45,
   "metadata": {},
   "outputs": [
    {
     "data": {
      "text/plain": [
       "[(3, 1, 1)]"
      ]
     },
     "execution_count": 45,
     "metadata": {},
     "output_type": "execute_result"
    }
   ],
   "source": [
    "Compra_Produto.read_all_from_compra(3)"
   ]
  },
  {
   "cell_type": "code",
   "execution_count": 46,
   "metadata": {},
   "outputs": [
    {
     "data": {
      "text/plain": [
       "1"
      ]
     },
     "execution_count": 46,
     "metadata": {},
     "output_type": "execute_result"
    }
   ],
   "source": [
    "Compra_Produto.update(6,5,3)"
   ]
  },
  {
   "cell_type": "code",
   "execution_count": 48,
   "metadata": {},
   "outputs": [
    {
     "data": {
      "text/plain": [
       "[(6, 5, 3)]"
      ]
     },
     "execution_count": 48,
     "metadata": {},
     "output_type": "execute_result"
    }
   ],
   "source": [
    "Compra_Produto.read_all_from_compra(6)"
   ]
  },
  {
   "cell_type": "code",
   "execution_count": 49,
   "metadata": {},
   "outputs": [
    {
     "data": {
      "text/plain": [
       "1"
      ]
     },
     "execution_count": 49,
     "metadata": {},
     "output_type": "execute_result"
    }
   ],
   "source": [
    "Compra_Produto.delete(6,5)"
   ]
  },
  {
   "cell_type": "code",
   "execution_count": 51,
   "metadata": {},
   "outputs": [
    {
     "data": {
      "text/plain": [
       "[]"
      ]
     },
     "execution_count": 51,
     "metadata": {},
     "output_type": "execute_result"
    }
   ],
   "source": [
    "Compra_Produto.read_all_from_compra(6)"
   ]
  },
  {
   "cell_type": "code",
   "execution_count": 52,
   "metadata": {},
   "outputs": [
    {
     "data": {
      "text/plain": [
       "1"
      ]
     },
     "execution_count": 52,
     "metadata": {},
     "output_type": "execute_result"
    }
   ],
   "source": [
    "Compra_Produto.delete_all_from_compra(3)"
   ]
  },
  {
   "cell_type": "code",
   "execution_count": 53,
   "metadata": {},
   "outputs": [
    {
     "data": {
      "text/plain": [
       "[]"
      ]
     },
     "execution_count": 53,
     "metadata": {},
     "output_type": "execute_result"
    }
   ],
   "source": [
    "Compra_Produto.read_all_from_compra(3)"
   ]
  }
 ],
 "metadata": {
  "kernelspec": {
   "display_name": "Python 3",
   "language": "python",
   "name": "python3"
  },
  "language_info": {
   "codemirror_mode": {
    "name": "ipython",
    "version": 3
   },
   "file_extension": ".py",
   "mimetype": "text/x-python",
   "name": "python",
   "nbconvert_exporter": "python",
   "pygments_lexer": "ipython3",
   "version": "3.10.11"
  },
  "orig_nbformat": 4
 },
 "nbformat": 4,
 "nbformat_minor": 2
}
