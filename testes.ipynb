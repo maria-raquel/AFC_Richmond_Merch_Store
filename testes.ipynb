{
 "cells": [
  {
   "cell_type": "code",
   "execution_count": 5,
   "metadata": {},
   "outputs": [],
   "source": [
    "import t_produto as p \n",
    "import connect_to_DB"
   ]
  },
  {
   "cell_type": "code",
   "execution_count": 6,
   "metadata": {},
   "outputs": [
    {
     "name": "stdout",
     "output_type": "stream",
     "text": [
      "Foi\n"
     ]
    }
   ],
   "source": [
    "connection = connect_to_DB.connect()\n",
    "if connection:\n",
    "    print(\"Foi\")\n",
    "Produto = p.Table_Produto(connection)"
   ]
  },
  {
   "cell_type": "code",
   "execution_count": 7,
   "metadata": {},
   "outputs": [],
   "source": [
    "teste = Produto.create(\"Camiseta\", 50, 10, \"Vestuario\", \"Brasil\", 1)\n",
    "teste"
   ]
  },
  {
   "cell_type": "code",
   "execution_count": 8,
   "metadata": {},
   "outputs": [
    {
     "data": {
      "text/plain": [
       "(1, 'aaa', 50.0, 23, {'Outros'}, 'Brasil', 1)"
      ]
     },
     "execution_count": 8,
     "metadata": {},
     "output_type": "execute_result"
    }
   ],
   "source": [
    "Produto.read_by_id(1)"
   ]
  },
  {
   "cell_type": "code",
   "execution_count": 9,
   "metadata": {},
   "outputs": [
    {
     "data": {
      "text/plain": [
       "(2, 'Camiseta', 50.0, 10, {'Vestuario'}, 'Brasil', 1)"
      ]
     },
     "execution_count": 9,
     "metadata": {},
     "output_type": "execute_result"
    }
   ],
   "source": [
    "Produto.read_by_id(2)"
   ]
  },
  {
   "cell_type": "code",
   "execution_count": 10,
   "metadata": {},
   "outputs": [
    {
     "data": {
      "text/plain": [
       "[(2, 'Camiseta', 50.0, 10, {'Vestuario'}, 'Brasil', 1),\n",
       " (3, 'Camiseta', 50.0, 10, {'Vestuario'}, 'Brasil', 1),\n",
       " (4, 'Camiseta', 50.0, 10, {'Vestuario'}, 'Brasil', 1),\n",
       " (5, 'Camiseta', 50.0, 10, {'Vestuario'}, 'Brasil', 1),\n",
       " (6, 'Camiseta', 50.0, 10, {'Vestuario'}, 'Brasil', 1),\n",
       " (7, 'Camiseta', 50.0, 20, {'Vestuario'}, 'Brasil', 1),\n",
       " (8, 'Camiseta', 50.0, 10, {'Vestuario'}, 'Brasil', 1),\n",
       " (9, 'Camiseta', 50.0, 10, {'Vestuario'}, 'Brasil', 1),\n",
       " (10, 'Camiseta', 50.0, 10, {'Vestuario'}, 'Brasil', 1),\n",
       " (11, 'Camiseta', 50.0, 10, {'Vestuario'}, 'Brasil', 1),\n",
       " (12, 'Camiseta', 50.0, 10, {'Vestuario'}, 'Brasil', 1),\n",
       " (13, 'Camiseta', 50.0, 10, {'Vestuario'}, 'Brasil', 1),\n",
       " (14, 'Camiseta', 50.0, 10, {'Vestuario'}, 'Brasil', 1),\n",
       " (15, 'Camiseta', 50.0, 10, {'Vestuario'}, 'Brasil', 1),\n",
       " (16, 'Camiseta', 50.0, 10, {'Vestuario'}, 'Brasil', 1),\n",
       " (17, 'Camiseta', 50.0, 10, {'Vestuario'}, 'Brasil', 1),\n",
       " (18, 'Camiseta', 50.0, 10, {'Vestuario'}, 'Brasil', 1),\n",
       " (19, 'Camiseta', 50.0, 10, {'Vestuario'}, 'Brasil', 1),\n",
       " (20, 'Camiseta', 50.0, 10, {'Vestuario'}, 'Brasil', 1),\n",
       " (21, 'Camiseta', 50.0, 10, {'Vestuario'}, 'Brasil', 0),\n",
       " (22, 'Camiseta', 50.0, 10, {'Vestuario'}, 'Brasil', 1),\n",
       " (23, 'Camiseta', 50.0, 10, {'Vestuario'}, 'Brasil', 1),\n",
       " (24, 'Camiseta', 50.0, 10, {'Vestuario'}, 'Brasil', 1)]"
      ]
     },
     "execution_count": 10,
     "metadata": {},
     "output_type": "execute_result"
    }
   ],
   "source": [
    "Produto.read_by_name('camiseta')"
   ]
  },
  {
   "cell_type": "code",
   "execution_count": 11,
   "metadata": {},
   "outputs": [],
   "source": [
    "Produto.update(1, 'categoria', 'Outros')"
   ]
  },
  {
   "cell_type": "code",
   "execution_count": 12,
   "metadata": {},
   "outputs": [],
   "source": [
    "Produto.delete(21)"
   ]
  },
  {
   "cell_type": "code",
   "execution_count": 13,
   "metadata": {},
   "outputs": [
    {
     "data": {
      "text/plain": [
       "[(1, 'aaa', 50.0, 23, {'Outros'}, 'Brasil', 1),\n",
       " (2, 'Camiseta', 50.0, 10, {'Vestuario'}, 'Brasil', 1),\n",
       " (3, 'Camiseta', 50.0, 10, {'Vestuario'}, 'Brasil', 1),\n",
       " (4, 'Camiseta', 50.0, 10, {'Vestuario'}, 'Brasil', 1),\n",
       " (5, 'Camiseta', 50.0, 10, {'Vestuario'}, 'Brasil', 1),\n",
       " (6, 'Camiseta', 50.0, 10, {'Vestuario'}, 'Brasil', 1),\n",
       " (7, 'Camiseta', 50.0, 20, {'Vestuario'}, 'Brasil', 1),\n",
       " (8, 'Camiseta', 50.0, 10, {'Vestuario'}, 'Brasil', 1),\n",
       " (9, 'Camiseta', 50.0, 10, {'Vestuario'}, 'Brasil', 1),\n",
       " (10, 'Camiseta', 50.0, 10, {'Vestuario'}, 'Brasil', 1),\n",
       " (11, 'Camiseta', 50.0, 10, {'Vestuario'}, 'Brasil', 1),\n",
       " (12, 'Camiseta', 50.0, 10, {'Vestuario'}, 'Brasil', 1),\n",
       " (13, 'Camiseta', 50.0, 10, {'Vestuario'}, 'Brasil', 1),\n",
       " (14, 'Camiseta', 50.0, 10, {'Vestuario'}, 'Brasil', 1),\n",
       " (15, 'Camiseta', 50.0, 10, {'Vestuario'}, 'Brasil', 1),\n",
       " (16, 'Camiseta', 50.0, 10, {'Vestuario'}, 'Brasil', 1),\n",
       " (17, 'Camiseta', 50.0, 10, {'Vestuario'}, 'Brasil', 1),\n",
       " (18, 'Camiseta', 50.0, 10, {'Vestuario'}, 'Brasil', 1),\n",
       " (19, 'Camiseta', 50.0, 10, {'Vestuario'}, 'Brasil', 1),\n",
       " (20, 'Camiseta', 50.0, 10, {'Vestuario'}, 'Brasil', 1),\n",
       " (21, 'Camiseta', 50.0, 10, {'Vestuario'}, 'Brasil', 0),\n",
       " (22, 'Camiseta', 50.0, 10, {'Vestuario'}, 'Brasil', 1),\n",
       " (23, 'Camiseta', 50.0, 10, {'Vestuario'}, 'Brasil', 1),\n",
       " (24, 'Camiseta', 50.0, 10, {'Vestuario'}, 'Brasil', 1)]"
      ]
     },
     "execution_count": 13,
     "metadata": {},
     "output_type": "execute_result"
    }
   ],
   "source": [
    "Produto.read_all()"
   ]
  },
  {
   "cell_type": "code",
   "execution_count": 14,
   "metadata": {},
   "outputs": [
    {
     "data": {
      "text/plain": [
       "[(1, 'aaa', 50.0, 23, {'Outros'}, 'Brasil', 1),\n",
       " (2, 'Camiseta', 50.0, 10, {'Vestuario'}, 'Brasil', 1),\n",
       " (3, 'Camiseta', 50.0, 10, {'Vestuario'}, 'Brasil', 1),\n",
       " (4, 'Camiseta', 50.0, 10, {'Vestuario'}, 'Brasil', 1),\n",
       " (5, 'Camiseta', 50.0, 10, {'Vestuario'}, 'Brasil', 1),\n",
       " (6, 'Camiseta', 50.0, 10, {'Vestuario'}, 'Brasil', 1),\n",
       " (7, 'Camiseta', 50.0, 20, {'Vestuario'}, 'Brasil', 1),\n",
       " (8, 'Camiseta', 50.0, 10, {'Vestuario'}, 'Brasil', 1),\n",
       " (9, 'Camiseta', 50.0, 10, {'Vestuario'}, 'Brasil', 1),\n",
       " (10, 'Camiseta', 50.0, 10, {'Vestuario'}, 'Brasil', 1),\n",
       " (11, 'Camiseta', 50.0, 10, {'Vestuario'}, 'Brasil', 1),\n",
       " (12, 'Camiseta', 50.0, 10, {'Vestuario'}, 'Brasil', 1),\n",
       " (13, 'Camiseta', 50.0, 10, {'Vestuario'}, 'Brasil', 1),\n",
       " (14, 'Camiseta', 50.0, 10, {'Vestuario'}, 'Brasil', 1),\n",
       " (15, 'Camiseta', 50.0, 10, {'Vestuario'}, 'Brasil', 1),\n",
       " (16, 'Camiseta', 50.0, 10, {'Vestuario'}, 'Brasil', 1),\n",
       " (17, 'Camiseta', 50.0, 10, {'Vestuario'}, 'Brasil', 1),\n",
       " (18, 'Camiseta', 50.0, 10, {'Vestuario'}, 'Brasil', 1),\n",
       " (19, 'Camiseta', 50.0, 10, {'Vestuario'}, 'Brasil', 1),\n",
       " (20, 'Camiseta', 50.0, 10, {'Vestuario'}, 'Brasil', 1),\n",
       " (22, 'Camiseta', 50.0, 10, {'Vestuario'}, 'Brasil', 1),\n",
       " (23, 'Camiseta', 50.0, 10, {'Vestuario'}, 'Brasil', 1),\n",
       " (24, 'Camiseta', 50.0, 10, {'Vestuario'}, 'Brasil', 1)]"
      ]
     },
     "execution_count": 14,
     "metadata": {},
     "output_type": "execute_result"
    }
   ],
   "source": [
    "Produto.read_all_available()"
   ]
  }
 ],
 "metadata": {
  "kernelspec": {
   "display_name": "Python 3",
   "language": "python",
   "name": "python3"
  },
  "language_info": {
   "codemirror_mode": {
    "name": "ipython",
    "version": 3
   },
   "file_extension": ".py",
   "mimetype": "text/x-python",
   "name": "python",
   "nbconvert_exporter": "python",
   "pygments_lexer": "ipython3",
   "version": "3.10.11"
  },
  "orig_nbformat": 4
 },
 "nbformat": 4,
 "nbformat_minor": 2
}
