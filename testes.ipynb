{
 "cells": [
  {
   "cell_type": "code",
   "execution_count": null,
   "metadata": {},
   "outputs": [],
   "source": [
    "import connect_to_DB\n",
    "import t_cliente as cl\n",
    "import t_compra_produto as cp\n",
    "import t_compra as cm\n",
    "import t_produto as p\n",
    "import t_vendedor as v\n",
    "import t_pagamento as pg\n",
    "import f_input as fi\n",
    "import f_print as fp\n",
    "import f_manipulacao as fm\n",
    "\n",
    "connection = connect_to_DB.connect()\n",
    "\n",
    "Cliente = cl.Table_Cliente(connection)\n",
    "Vendedor = v.Table_Vendedor(connection)\n",
    "Produto = p.Table_Produto(connection)\n",
    "Compra = cm.Table_Compra(connection)\n",
    "Compra_Produto = cp.Table_Compra_Produto(connection)\n",
    "Pagamento = pg.Table_Pagamento(connection)"
   ]
  },
  {
   "cell_type": "code",
   "execution_count": 7,
   "metadata": {},
   "outputs": [
    {
     "name": "stdout",
     "output_type": "stream",
     "text": [
      "Informe os dados do cliente: \n",
      "----------------------------------------\n",
      "Cliente cadastrado com sucesso!\n",
      "----------------------------------------\n",
      "Informe os dados da compra: \n",
      "----------------------------------------\n",
      "Produto 5: vuvuzela\n",
      "Preço: R$ 9.99\n",
      "Quantidade em estoque: 50\n",
      "Categoria: Outros, Local de fabricação: Africa do Sul\n",
      "----------------------------------------\n",
      "----------------------------------------\n",
      "Informações da compra 24:\n",
      "Total: R$ 9.99\n",
      "Status do pagamento: Pendente, forma de pagamento: A definir\n",
      "----------------------------------------\n",
      "Opções de pagamento: \n",
      "1: Dinheiro\n",
      "2: Cartão de crédito\n",
      "3: Cartão de débito\n",
      "4: Pix\n",
      "Solicite o pagamento ao cliente\n",
      "----------------------------------------\n",
      "Compra cadastrada com sucesso!\n",
      "----------------------------------------\n"
     ]
    }
   ],
   "source": [
    "fm.nova_compra()"
   ]
  },
  {
   "cell_type": "code",
   "execution_count": null,
   "metadata": {},
   "outputs": [],
   "source": [
    "c = Compra.read(24)\n",
    "fp.info_compra(*c)\n",
    "produtos = Compra_Produto.read_all_from_compra(24)\n",
    "fp.info_compra_produtos(produtos)"
   ]
  },
  {
   "cell_type": "code",
   "execution_count": 10,
   "metadata": {},
   "outputs": [
    {
     "data": {
      "text/plain": [
       "13"
      ]
     },
     "execution_count": 10,
     "metadata": {},
     "output_type": "execute_result"
    }
   ],
   "source": [
    "Cliente.return_id('345')"
   ]
  }
 ],
 "metadata": {
  "kernelspec": {
   "display_name": "Python 3",
   "language": "python",
   "name": "python3"
  },
  "language_info": {
   "codemirror_mode": {
    "name": "ipython",
    "version": 3
   },
   "file_extension": ".py",
   "mimetype": "text/x-python",
   "name": "python",
   "nbconvert_exporter": "python",
   "pygments_lexer": "ipython3",
   "version": "3.10.11"
  },
  "orig_nbformat": 4
 },
 "nbformat": 4,
 "nbformat_minor": 2
}
