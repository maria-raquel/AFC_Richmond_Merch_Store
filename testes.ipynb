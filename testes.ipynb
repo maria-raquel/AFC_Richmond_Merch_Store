{
 "cells": [
  {
   "cell_type": "code",
   "execution_count": 1,
   "metadata": {},
   "outputs": [],
   "source": [
    "import connect_to_DB\n",
    "import t_cliente as cl\n",
    "import t_compra_produto as cp\n",
    "import t_compra as cm\n",
    "import t_produto as p\n",
    "import t_vendedor as v\n",
    "import t_pagamento as pg\n",
    "import t_relatorio as tr\n",
    "import f_input as fi\n",
    "import f_print as fp\n",
    "import f_manipulacao as fm\n",
    "import f_relatorio as fr\n",
    "\n",
    "connection = connect_to_DB.connect()\n",
    "\n",
    "Cliente = cl.Table_Cliente(connection)\n",
    "Vendedor = v.Table_Vendedor(connection)\n",
    "Produto = p.Table_Produto(connection)\n",
    "Compra = cm.Table_Compra(connection)\n",
    "Compra_Produto = cp.Table_Compra_Produto(connection)\n",
    "Pagamento = pg.Table_Pagamento(connection)\n",
    "Consulta = tr.Consulta_Relatorio(connection)"
   ]
  },
  {
   "cell_type": "code",
   "execution_count": 19,
   "metadata": {},
   "outputs": [],
   "source": [
    "import random"
   ]
  },
  {
   "cell_type": "code",
   "execution_count": 15,
   "metadata": {},
   "outputs": [],
   "source": [
    "# COMPRAS\n",
    "#INSERT INTO compra (id_cliente, id_vendedor, data_da_compra, status_da_compra) VALUES \n",
    "# (47, 11, ‘2023-05-29’, 'Confirmada')\n",
    "\n",
    "# randint(32,52) -> clientes\n",
    "# randint(10, 12) -> vendedores\n",
    "\n",
    "# for i in range(20):\n",
    "#    print(f\"({randint(32,52)}, {randint(10, 12)}, '2023-06-0{randint(1,11)}', 'Confirmada'),\")"
   ]
  },
  {
   "cell_type": "code",
   "execution_count": 17,
   "metadata": {},
   "outputs": [],
   "source": [
    "# Produto compra\n",
    "\n",
    "# INSERT INTO Produto_Compra (id_compra, id_produto, quantidade) VALUES\n",
    "# (53, 29, 2),\n",
    "\n",
    "# compra -> 102 - 141\n",
    "\n",
    "# for i in range(102, 142):\n",
    "#    print(f\"({i}, {randint(29,47)}, {randint(1,5)}),\")"
   ]
  },
  {
   "cell_type": "code",
   "execution_count": 20,
   "metadata": {},
   "outputs": [
    {
     "name": "stdout",
     "output_type": "stream",
     "text": [
      "(102, 0, 0, 'Dinheiro', 'Confirmado'),\n",
      "(103, 0, 0, 'Cartao de Debito', 'Confirmado'),\n",
      "(104, 0, 0, 'Cartao de Debito', 'Confirmado'),\n",
      "(105, 0, 0, 'Cartao de Credito', 'Confirmado'),\n",
      "(106, 0, 0, 'Dinheiro', 'Confirmado'),\n",
      "(107, 0, 0, 'Dinheiro', 'Confirmado'),\n",
      "(108, 0, 0, 'Cartao de Debito', 'Confirmado'),\n",
      "(109, 0, 0, 'Cartao de Credito', 'Confirmado'),\n",
      "(110, 0, 0, 'Cartao de Debito', 'Confirmado'),\n",
      "(111, 0, 0, 'Cartao de Debito', 'Confirmado'),\n",
      "(112, 0, 0, 'Cartao de Debito', 'Confirmado'),\n",
      "(113, 0, 0, 'Cartao de Credito', 'Confirmado'),\n",
      "(114, 0, 0, 'Dinheiro', 'Confirmado'),\n",
      "(115, 0, 0, 'Dinheiro', 'Confirmado'),\n",
      "(116, 0, 0, 'Dinheiro', 'Confirmado'),\n",
      "(117, 0, 0, 'Pix', 'Confirmado'),\n",
      "(118, 0, 0, 'Pix', 'Confirmado'),\n",
      "(119, 0, 0, 'Dinheiro', 'Confirmado'),\n",
      "(120, 0, 0, 'Dinheiro', 'Confirmado'),\n",
      "(121, 0, 0, 'Cartao de Credito', 'Confirmado'),\n",
      "(122, 0, 0, 'Cartao de Credito', 'Confirmado'),\n",
      "(123, 0, 0, 'Cartao de Debito', 'Confirmado'),\n",
      "(124, 0, 0, 'Cartao de Credito', 'Confirmado'),\n",
      "(125, 0, 0, 'Pix', 'Confirmado'),\n",
      "(126, 0, 0, 'Dinheiro', 'Confirmado'),\n",
      "(127, 0, 0, 'Cartao de Debito', 'Confirmado'),\n",
      "(128, 0, 0, 'Cartao de Credito', 'Confirmado'),\n",
      "(129, 0, 0, 'Dinheiro', 'Confirmado'),\n",
      "(130, 0, 0, 'Pix', 'Confirmado'),\n",
      "(131, 0, 0, 'Pix', 'Confirmado'),\n",
      "(132, 0, 0, 'Cartao de Debito', 'Confirmado'),\n",
      "(133, 0, 0, 'Dinheiro', 'Confirmado'),\n",
      "(134, 0, 0, 'Cartao de Debito', 'Confirmado'),\n",
      "(135, 0, 0, 'Pix', 'Confirmado'),\n",
      "(136, 0, 0, 'Dinheiro', 'Confirmado'),\n",
      "(137, 0, 0, 'Dinheiro', 'Confirmado'),\n",
      "(138, 0, 0, 'Pix', 'Confirmado'),\n",
      "(139, 0, 0, 'Cartao de Debito', 'Confirmado'),\n",
      "(140, 0, 0, 'Cartao de Credito', 'Confirmado'),\n",
      "(141, 0, 0, 'Dinheiro', 'Confirmado'),\n"
     ]
    }
   ],
   "source": [
    "#INSERT INTO Pagamento (id_compra, total, desconto_aplicado, forma_de_pagamento, status_do_pagamento) VALUES\n",
    "#(53, 0, 0, 'Pix', 'Confirmado'),\n",
    "\n",
    "#forma_de_pagamento, set('Dinheiro','Cartao de Credito','Cartao de Debito','Pix','A definir'), YES, , , \n",
    "\n",
    "formas = ['Dinheiro','Cartao de Credito','Cartao de Debito','Pix']\n",
    "\n",
    "for i in range(102, 142):\n",
    "    print(f\"({i}, 0, 0, '{random.choice(formas)}', 'Confirmado'),\")"
   ]
  }
 ],
 "metadata": {
  "kernelspec": {
   "display_name": "Python 3",
   "language": "python",
   "name": "python3"
  },
  "language_info": {
   "codemirror_mode": {
    "name": "ipython",
    "version": 3
   },
   "file_extension": ".py",
   "mimetype": "text/x-python",
   "name": "python",
   "nbconvert_exporter": "python",
   "pygments_lexer": "ipython3",
   "version": "3.10.11"
  },
  "orig_nbformat": 4
 },
 "nbformat": 4,
 "nbformat_minor": 2
}
