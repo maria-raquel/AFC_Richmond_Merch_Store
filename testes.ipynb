{
 "cells": [
  {
   "cell_type": "code",
   "execution_count": 1,
   "metadata": {},
   "outputs": [],
   "source": [
    "import connect_to_DB\n",
    "import t_cliente as cl\n",
    "import t_compra_produto as cp\n",
    "import t_compra as cm\n",
    "import t_produto as p\n",
    "import t_vendedor as v\n",
    "import t_pagamento as pg\n",
    "import f_input as fi\n",
    "import f_print as fp\n",
    "import f_manipulacao as fm\n",
    "\n",
    "connection = connect_to_DB.connect()\n",
    "\n",
    "Cliente = cl.Table_Cliente(connection)\n",
    "Vendedor = v.Table_Vendedor(connection)\n",
    "Produto = p.Table_Produto(connection)\n",
    "Compra = cm.Table_Compra(connection)\n",
    "Compra_Produto = cp.Table_Compra_Produto(connection)\n",
    "Pagamento = pg.Table_Pagamento(connection)"
   ]
  },
  {
   "cell_type": "code",
   "execution_count": 4,
   "metadata": {},
   "outputs": [
    {
     "name": "stdout",
     "output_type": "stream",
     "text": [
      "----------------------------------------\n",
      "Menu - Produto - Busca: \n",
      "1 - Por id\n",
      "2 - Por nome\n",
      "3 - Por categoria\n",
      "4 - Por local de fabricação\n",
      "5 - Por faixa de preço\n",
      "6 - Todos\n",
      "0 - Voltar\n"
     ]
    }
   ],
   "source": [
    "fm.buscar_produto()"
   ]
  },
  {
   "cell_type": "code",
   "execution_count": 3,
   "metadata": {},
   "outputs": [
    {
     "name": "stdout",
     "output_type": "stream",
     "text": [
      "----------------------------------------\n",
      "Erro ao recuperar informações!\n",
      "----------------------------------------\n",
      "----------------------------------------\n",
      "id | nome | cpf | cidade | flamenguista | one piece \n",
      "----------------------------------------\n"
     ]
    }
   ],
   "source": [
    "nome = fi.nome()\n",
    "clientes = Cliente.read_by_name(nome)\n",
    "if not clientes:\n",
    "    fp.mensagem_erro_ao_recuperar_info()\n",
    "fp.info_clientes(clientes)"
   ]
  }
 ],
 "metadata": {
  "kernelspec": {
   "display_name": "Python 3",
   "language": "python",
   "name": "python3"
  },
  "language_info": {
   "codemirror_mode": {
    "name": "ipython",
    "version": 3
   },
   "file_extension": ".py",
   "mimetype": "text/x-python",
   "name": "python",
   "nbconvert_exporter": "python",
   "pygments_lexer": "ipython3",
   "version": "3.10.11"
  },
  "orig_nbformat": 4
 },
 "nbformat": 4,
 "nbformat_minor": 2
}
