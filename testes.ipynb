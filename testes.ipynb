{
 "cells": [
  {
   "cell_type": "code",
   "execution_count": 1,
   "metadata": {},
   "outputs": [],
   "source": [
    "import connect_to_DB\n",
    "import t_cliente as cl\n",
    "import t_compra_produto as cp\n",
    "import t_compra as cm\n",
    "import t_produto as p\n",
    "import t_vendedor as v\n",
    "import t_pagamento as pg\n",
    "import f_input as fi\n",
    "import f_print as fp\n",
    "import f_manipulacao as fm\n",
    "import f_relatorio as fr\n",
    "\n",
    "connection = connect_to_DB.connect()\n",
    "\n",
    "Cliente = cl.Table_Cliente(connection)\n",
    "Vendedor = v.Table_Vendedor(connection)\n",
    "Produto = p.Table_Produto(connection)\n",
    "Compra = cm.Table_Compra(connection)\n",
    "Compra_Produto = cp.Table_Compra_Produto(connection)\n",
    "Pagamento = pg.Table_Pagamento(connection)"
   ]
  },
  {
   "cell_type": "code",
   "execution_count": 6,
   "metadata": {},
   "outputs": [
    {
     "name": "stdout",
     "output_type": "stream",
     "text": [
      "----------------------------------------\n",
      "Produto 2: vuvuzela\n",
      "Preço: R$ 9.99\n",
      "Quantidade em estoque: 48\n",
      "Categoria: Outros; Local de fabricação: Africa do Sul\n",
      "----------------------------------------\n"
     ]
    }
   ],
   "source": [
    "produtos = fi.escolher_produtos(39)\n",
    "for produto in produtos:\n",
    "    if not Compra_Produto.create(*produto):\n",
    "        fp.mensagem_erro_ao_adicionar_produto()\n",
    "        fi.deu_ruim_sair_da_operacao()"
   ]
  },
  {
   "cell_type": "code",
   "execution_count": null,
   "metadata": {},
   "outputs": [],
   "source": []
  },
  {
   "cell_type": "code",
   "execution_count": 11,
   "metadata": {},
   "outputs": [],
   "source": [
    "from PIL import Image, ImageDraw, ImageFont\n",
    "\n",
    "# Load the image\n",
    "image = Image.open(\"relatorio.png\")\n",
    "draw = ImageDraw.Draw(image)"
   ]
  },
  {
   "cell_type": "code",
   "execution_count": 12,
   "metadata": {},
   "outputs": [],
   "source": [
    "# Define the text and its properties\n",
    "text = \"Hello, World!\"\n",
    "font = ImageFont.truetype(\"arial.ttf\", 120)\n",
    "text_color = (0,0,0)  # White\n",
    "\n",
    "# Specify the position to print the text\n",
    "position = (1085, 1119)\n",
    "\n",
    "# Draw the text onto the image\n",
    "draw.text(position, text, font=font, fill=text_color)\n",
    "\n",
    "# Save the modified image\n",
    "image.save(\"output.png\")"
   ]
  }
 ],
 "metadata": {
  "kernelspec": {
   "display_name": "Python 3",
   "language": "python",
   "name": "python3"
  },
  "language_info": {
   "codemirror_mode": {
    "name": "ipython",
    "version": 3
   },
   "file_extension": ".py",
   "mimetype": "text/x-python",
   "name": "python",
   "nbconvert_exporter": "python",
   "pygments_lexer": "ipython3",
   "version": "3.10.11"
  },
  "orig_nbformat": 4
 },
 "nbformat": 4,
 "nbformat_minor": 2
}
